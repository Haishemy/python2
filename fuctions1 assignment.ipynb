{
 "cells": [
  {
   "cell_type": "code",
   "execution_count": 5,
   "id": "cae59188-535f-4d81-a466-f520a6929186",
   "metadata": {},
   "outputs": [],
   "source": [
    "\n",
    "    def subfields():\n",
    "        print(\"Sub-fields in AI are :\")\n",
    "        print(\"Machine learning\")\n",
    "        print(\"Neural network\")\n",
    "        print(\"Vision\")\n",
    "        print(\"Robotics\")\n",
    "        print(\"Speech processing\")\n",
    "        print(\"Natural language processing\")\n",
    "        \n",
    "        \n"
   ]
  },
  {
   "cell_type": "code",
   "execution_count": 6,
   "id": "4a34485c-39d9-40e8-a1aa-94496d360992",
   "metadata": {},
   "outputs": [
    {
     "name": "stdout",
     "output_type": "stream",
     "text": [
      "Sub-fields in AI are :\n",
      "Machine learning\n",
      "Neural network\n",
      "Vision\n",
      "Robotics\n",
      "Speech processing\n",
      "Natural language processing\n"
     ]
    }
   ],
   "source": [
    "subfields()"
   ]
  },
  {
   "cell_type": "code",
   "execution_count": 7,
   "id": "79e0d6bb-78e8-492f-a803-a48682579e02",
   "metadata": {},
   "outputs": [],
   "source": [
    "def oddeven():\n",
    "    num=int(input(\"Enter any number:\"))\n",
    "    if((num%2)==0):\n",
    "        print(num,\"is even number\")\n",
    "    else:\n",
    "        print(num,\"is odd number\")\n",
    "     \n"
   ]
  },
  {
   "cell_type": "code",
   "execution_count": 8,
   "id": "805953e4-7a92-4834-946b-0e407f454770",
   "metadata": {},
   "outputs": [
    {
     "name": "stdin",
     "output_type": "stream",
     "text": [
      "Enter any number: 5656\n"
     ]
    },
    {
     "name": "stdout",
     "output_type": "stream",
     "text": [
      "5656 is even number\n"
     ]
    }
   ],
   "source": [
    "oddeven()"
   ]
  },
  {
   "cell_type": "code",
   "execution_count": 9,
   "id": "4256152d-565e-4edb-b375-29a69fab05a7",
   "metadata": {},
   "outputs": [],
   "source": [
    "def eligible():\n",
    "    gender=input(\"Your gender:\")\n",
    "    age=int(input(\"Your age:\"))\n",
    "    if(gender==\"male\"):\n",
    "        if(age>21):\n",
    "            print(\"eligible\")\n",
    "        else:\n",
    "            print(\"not eligible\")\n",
    "    elif(gender==\"female\"):\n",
    "        if(age>18):\n",
    "            print(\"eligible\")\n",
    "        else:    \n",
    "            print(\"not eligible\")\n",
    "    else:\n",
    "        print(\"####\")\n",
    "    "
   ]
  },
  {
   "cell_type": "code",
   "execution_count": 10,
   "id": "0f6b7724-c36d-4013-9882-fae66205beae",
   "metadata": {},
   "outputs": [
    {
     "name": "stdin",
     "output_type": "stream",
     "text": [
      "Your gender: male\n",
      "Your age: 26\n"
     ]
    },
    {
     "name": "stdout",
     "output_type": "stream",
     "text": [
      "eligible\n"
     ]
    }
   ],
   "source": [
    "eligible()"
   ]
  },
  {
   "cell_type": "code",
   "execution_count": 11,
   "id": "a21a3230-cccf-4120-8c87-9c251ea38833",
   "metadata": {},
   "outputs": [],
   "source": [
    "def percentage():\n",
    "    sub1=int(input(\"subject1\"))\n",
    "    sub2=int(input(\"subject2\"))\n",
    "    sub3=int(input(\"subject3\"))\n",
    "    sub4=int(input(\"subject4\"))\n",
    "    sub5=int(input(\"subject5\"))\n",
    "    total=sub1+sub2+sub3+sub4+sub5\n",
    "    percentage=((total/500)*100)\n",
    "    print(\"total\",total)\n",
    "    print(\"percentage\",percentage)\n",
    "    "
   ]
  },
  {
   "cell_type": "code",
   "execution_count": 12,
   "id": "32a02c9b-9a44-44a0-934e-ab16f37ee841",
   "metadata": {},
   "outputs": [
    {
     "name": "stdin",
     "output_type": "stream",
     "text": [
      "subject1 80\n",
      "subject2 90\n",
      "subject3 95\n",
      "subject4 80\n",
      "subject5 88\n"
     ]
    },
    {
     "name": "stdout",
     "output_type": "stream",
     "text": [
      "total 433\n",
      "percentage 86.6\n"
     ]
    }
   ],
   "source": [
    "percentage()"
   ]
  },
  {
   "cell_type": "code",
   "execution_count": 13,
   "id": "22d02238-8413-4e66-8e4e-f9f023871c2a",
   "metadata": {},
   "outputs": [],
   "source": [
    "def triangle():\n",
    "    h=int(input(\"height:\"))\n",
    "    b=int(input(\"breadth:\"))\n",
    "    area=((h*b)/2)\n",
    "    print(\"area of the triangle is:\",area)\n",
    "    h1=int(input(\"height1:\"))\n",
    "    h2=int(input(\"height2:\"))\n",
    "    b1=int(input(\"breadth1:\"))\n",
    "    peri=h1+h2+b1\n",
    "    print(\"perimeter of the triangle is:\",peri)\n",
    "    "
   ]
  },
  {
   "cell_type": "code",
   "execution_count": 14,
   "id": "9d80c3c4-cea2-40e3-a548-ddf1c73c7822",
   "metadata": {},
   "outputs": [
    {
     "name": "stdin",
     "output_type": "stream",
     "text": [
      "height: 4\n",
      "breadth: 5\n"
     ]
    },
    {
     "name": "stdout",
     "output_type": "stream",
     "text": [
      "area of the triangle is: 10.0\n"
     ]
    },
    {
     "name": "stdin",
     "output_type": "stream",
     "text": [
      "height1: 56\n",
      "height2: 67\n",
      "breadth1: 99\n"
     ]
    },
    {
     "name": "stdout",
     "output_type": "stream",
     "text": [
      "perimeter of the triangle is: 222\n"
     ]
    }
   ],
   "source": [
    "triangle()"
   ]
  },
  {
   "cell_type": "code",
   "execution_count": null,
   "id": "e487dd3a-8a3d-4901-bafd-22c33a970dda",
   "metadata": {},
   "outputs": [],
   "source": []
  }
 ],
 "metadata": {
  "kernelspec": {
   "display_name": "Python 3 (ipykernel)",
   "language": "python",
   "name": "python3"
  },
  "language_info": {
   "codemirror_mode": {
    "name": "ipython",
    "version": 3
   },
   "file_extension": ".py",
   "mimetype": "text/x-python",
   "name": "python",
   "nbconvert_exporter": "python",
   "pygments_lexer": "ipython3",
   "version": "3.12.4"
  }
 },
 "nbformat": 4,
 "nbformat_minor": 5
}
